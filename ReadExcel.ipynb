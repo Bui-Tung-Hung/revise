{
 "cells": [
  {
   "cell_type": "code",
   "execution_count": 38,
   "metadata": {},
   "outputs": [],
   "source": [
    "import pandas as pd\n",
    "import numpy as np\n",
    "import smtplib\n",
    "from email.mime.text import MIMEText\n",
    "from email.mime.multipart import MIMEMultipart\n"
   ]
  },
  {
   "cell_type": "code",
   "execution_count": 27,
   "metadata": {},
   "outputs": [
    {
     "data": {
      "text/html": [
       "<div>\n",
       "<style scoped>\n",
       "    .dataframe tbody tr th:only-of-type {\n",
       "        vertical-align: middle;\n",
       "    }\n",
       "\n",
       "    .dataframe tbody tr th {\n",
       "        vertical-align: top;\n",
       "    }\n",
       "\n",
       "    .dataframe thead th {\n",
       "        text-align: right;\n",
       "    }\n",
       "</style>\n",
       "<table border=\"1\" class=\"dataframe\">\n",
       "  <thead>\n",
       "    <tr style=\"text-align: right;\">\n",
       "      <th></th>\n",
       "      <th>STT</th>\n",
       "      <th>Supervisor</th>\n",
       "      <th>Company_Name</th>\n",
       "      <th>Category</th>\n",
       "      <th>PhoneNumber</th>\n",
       "      <th>Address</th>\n",
       "      <th>Email</th>\n",
       "      <th>Facebook</th>\n",
       "      <th>Website</th>\n",
       "    </tr>\n",
       "  </thead>\n",
       "  <tbody>\n",
       "    <tr>\n",
       "      <th>0</th>\n",
       "      <td>290</td>\n",
       "      <td>Tùng Hưng</td>\n",
       "      <td>Bao Bì Nhựa Đỉnh Phong</td>\n",
       "      <td>Túi tote, túi tái sử dụng</td>\n",
       "      <td>(028) 35042846, 0934 021 688</td>\n",
       "      <td>25 Đường Số 1, KDC Nam Hưng Vương, P. An Lạc, ...</td>\n",
       "      <td>baobinhuadinhphong@gmail.com</td>\n",
       "      <td>NaN</td>\n",
       "      <td>www.baobidinhphong.com</td>\n",
       "    </tr>\n",
       "    <tr>\n",
       "      <th>1</th>\n",
       "      <td>291</td>\n",
       "      <td>Tùng Hưng</td>\n",
       "      <td>Bao Bì Ánh Trinh</td>\n",
       "      <td>Túi tote, túi tái sử dụng</td>\n",
       "      <td>(028) 38963013, 0908800547</td>\n",
       "      <td>881 Phạm Văn Đồng, KP. 4, P. Linh Tây, TP. Thủ...</td>\n",
       "      <td>anhtrinh09dn@gmail.com</td>\n",
       "      <td>NaN</td>\n",
       "      <td>www.tuinilonanhtrinh.com</td>\n",
       "    </tr>\n",
       "    <tr>\n",
       "      <th>2</th>\n",
       "      <td>292</td>\n",
       "      <td>Tùng Hưng</td>\n",
       "      <td>Công Ty TNHH Sản Xuất Bao Bì Nhựa Vinh Phát</td>\n",
       "      <td>Túi tote, túi tái sử dụng</td>\n",
       "      <td>0844 875 567</td>\n",
       "      <td>Long An, Long An</td>\n",
       "      <td>khaidung79@gmail.com</td>\n",
       "      <td>NaN</td>\n",
       "      <td>www.nhuavinhphat.com</td>\n",
       "    </tr>\n",
       "    <tr>\n",
       "      <th>3</th>\n",
       "      <td>293</td>\n",
       "      <td>Tùng Hưng</td>\n",
       "      <td>Công Ty TNHH Sản Xuất In Bao Bì Hoàng Thịnh Ph...</td>\n",
       "      <td>Túi tote, túi tái sử dụng</td>\n",
       "      <td>0945 29 7676</td>\n",
       "      <td>Số 18, Đường 30, KDC Ấp 5, Phong Phú, H. Bình ...</td>\n",
       "      <td>baobihoangthinhphat86@gmail.com</td>\n",
       "      <td>NaN</td>\n",
       "      <td>www.hoangthinhphatplastic.com</td>\n",
       "    </tr>\n",
       "    <tr>\n",
       "      <th>4</th>\n",
       "      <td>294</td>\n",
       "      <td>Tùng Hưng</td>\n",
       "      <td>Công Ty TNHH Nguyên Phụ Liệu An Thịnh</td>\n",
       "      <td>Túi tote, túi tái sử dụng</td>\n",
       "      <td>0916 565 761</td>\n",
       "      <td>20A Đường 24A, P. Bình Hưng Hòa A, Quận Bình T...</td>\n",
       "      <td>duloc08@gmail.com</td>\n",
       "      <td>NaN</td>\n",
       "      <td>www.phulieuanthinh.com</td>\n",
       "    </tr>\n",
       "  </tbody>\n",
       "</table>\n",
       "</div>"
      ],
      "text/plain": [
       "   STT Supervisor                                       Company_Name  \\\n",
       "0  290  Tùng Hưng                             Bao Bì Nhựa Đỉnh Phong   \n",
       "1  291  Tùng Hưng                                   Bao Bì Ánh Trinh   \n",
       "2  292  Tùng Hưng        Công Ty TNHH Sản Xuất Bao Bì Nhựa Vinh Phát   \n",
       "3  293  Tùng Hưng  Công Ty TNHH Sản Xuất In Bao Bì Hoàng Thịnh Ph...   \n",
       "4  294  Tùng Hưng              Công Ty TNHH Nguyên Phụ Liệu An Thịnh   \n",
       "\n",
       "                    Category                   PhoneNumber  \\\n",
       "0  Túi tote, túi tái sử dụng  (028) 35042846, 0934 021 688   \n",
       "1  Túi tote, túi tái sử dụng    (028) 38963013, 0908800547   \n",
       "2  Túi tote, túi tái sử dụng                  0844 875 567   \n",
       "3  Túi tote, túi tái sử dụng                  0945 29 7676   \n",
       "4  Túi tote, túi tái sử dụng                  0916 565 761   \n",
       "\n",
       "                                             Address  \\\n",
       "0  25 Đường Số 1, KDC Nam Hưng Vương, P. An Lạc, ...   \n",
       "1  881 Phạm Văn Đồng, KP. 4, P. Linh Tây, TP. Thủ...   \n",
       "2                                   Long An, Long An   \n",
       "3  Số 18, Đường 30, KDC Ấp 5, Phong Phú, H. Bình ...   \n",
       "4  20A Đường 24A, P. Bình Hưng Hòa A, Quận Bình T...   \n",
       "\n",
       "                             Email Facebook                        Website  \n",
       "0     baobinhuadinhphong@gmail.com      NaN         www.baobidinhphong.com  \n",
       "1           anhtrinh09dn@gmail.com      NaN       www.tuinilonanhtrinh.com  \n",
       "2             khaidung79@gmail.com      NaN           www.nhuavinhphat.com  \n",
       "3  baobihoangthinhphat86@gmail.com      NaN  www.hoangthinhphatplastic.com  \n",
       "4                duloc08@gmail.com      NaN         www.phulieuanthinh.com  "
      ]
     },
     "execution_count": 27,
     "metadata": {},
     "output_type": "execute_result"
    }
   ],
   "source": [
    "df = pd.read_excel(\"a.xlsx\", engine=\"openpyxl\")\n",
    "\n",
    "df.head()"
   ]
  },
  {
   "cell_type": "code",
   "execution_count": 28,
   "metadata": {},
   "outputs": [
    {
     "name": "stdout",
     "output_type": "stream",
     "text": [
      "['Bao Bì Nhựa Đỉnh Phong', 'Bao Bì Ánh Trinh', 'Công Ty TNHH Sản Xuất Bao Bì Nhựa Vinh Phát', 'Công Ty TNHH Sản Xuất In Bao Bì Hoàng Thịnh Phát Plastic', 'Công Ty TNHH Nguyên Phụ Liệu An Thịnh', 'Công Ty TNHH Sản Xuất Thương Mại Dịch Vụ Hiệp Lộc', 'Bao Bì Phúc An', 'Công Ty Bao Bì Nhật Thái', 'Công Ty CP Đầu Tư Sản Xuất Xuất Nhập Khẩu Trường Giang', 'Công Ty Cổ Phần Thương Mại Và Công Nghệ Minh Phát', 'Công Ty TNHH Bao Bì Mực In Việt Nam (VINAPACKINK CO., LTD)', 'Công Ty TNHH SX Bao Bì Kiên Thủy', 'Công Ty Cổ Phần Việt Tiến Nam Định', 'Công Ty TNHH Sản Xuất Minh Thảo', 'Công Ty TNHH Sản Xuất In Ấn Bao Bì Gia Ân', 'Công Ty TNHH Sản Xuất Thương Mại Dịch Vụ Tân Thuận Tiến', 'Công Ty TNHH Đầu Tư Thương Mại Và Sản Xuất Bao Bì Tuấn Ngọc', 'Công Ty Cổ Phần Hưng Cát', 'Công Ty TNHH Bao Bì Nhựa Liên Thành', 'Công Ty TNHH Sơn Trương', 'Công Ty TNHH SX TM DV Xuất Nhập Khẩu Bao Bì Hoàng Đăng', 'Công Ty TNHH Sản Xuất - Thương Mại Bao Bì Hòa Phát']\n"
     ]
    }
   ],
   "source": [
    "company = df.Company_Name\n",
    "Company_name = []\n",
    "for i in company:\n",
    "    Company_name.append(i)\n",
    "print(Company_name)"
   ]
  },
  {
   "cell_type": "code",
   "execution_count": 36,
   "metadata": {},
   "outputs": [
    {
     "name": "stdout",
     "output_type": "stream",
     "text": [
      "['baobinhuadinhphong@gmail.com', 'anhtrinh09dn@gmail.com', 'khaidung79@gmail.com', 'baobihoangthinhphat86@gmail.com', 'duloc08@gmail.com', 'hieploc.company@yahoo.com, sales@hieploc.com', 'haianh358@gmail.com', 'kinhdoanhnhatthai@gmail.com', 'truonggiangig@gmail.com', 'minhphatjsc.vn@gmail.com', 'luan.le@vinapackink.com.vn', 'bbkienthuy@gmail.com', 'viettiennd@gmail.com', 'minhloan1958@gmail.com', 'baobigiaan@gmail.com', 'baobi@tanthuantienpaper.com', 'info@tuanngoc.vn', 'vthungcat@gmail.com', 'dntnlienthanh@yahoo.com', 'sontruongstc@gmail.com', 'hoangdangpackaging@yahoo.com', 'hoaphatbaobi@gmail.com']\n"
     ]
    }
   ],
   "source": [
    "mail = df.Email\n",
    "receiver = []\n",
    "for i in mail:\n",
    "    receiver.append(i)\n",
    "print(receiver) "
   ]
  },
  {
   "cell_type": "code",
   "execution_count": 33,
   "metadata": {},
   "outputs": [],
   "source": [
    "def get_info():\n",
    "    email = input(\"Insert your Email Address: \")\n",
    "    password = input(\"Insert your App Password: \")\n",
    "    Sender = input(\"Insert your Name: \")\n",
    "    Phone_number = input(\"Insert your Phone Number\")\n",
    "    Category = input(\"Insert your Category: \")\n",
    "    return email, password, Sender, Phone_number, Category\n",
    "email, password, Sender, Phone_number, Category = get_info()"
   ]
  },
  {
   "cell_type": "code",
   "execution_count": 37,
   "metadata": {},
   "outputs": [
    {
     "name": "stdout",
     "output_type": "stream",
     "text": [
      "buitunghung123@gmail.com\n",
      "tpuc dyds aufc uigw\n",
      "Bùi Tùng Hưng\n",
      "0852366778\n",
      "Túi tote, túi tái sử dụng\n",
      "['Bao Bì Nhựa Đỉnh Phong', 'Bao Bì Ánh Trinh', 'Công Ty TNHH Sản Xuất Bao Bì Nhựa Vinh Phát', 'Công Ty TNHH Sản Xuất In Bao Bì Hoàng Thịnh Phát Plastic', 'Công Ty TNHH Nguyên Phụ Liệu An Thịnh', 'Công Ty TNHH Sản Xuất Thương Mại Dịch Vụ Hiệp Lộc', 'Bao Bì Phúc An', 'Công Ty Bao Bì Nhật Thái', 'Công Ty CP Đầu Tư Sản Xuất Xuất Nhập Khẩu Trường Giang', 'Công Ty Cổ Phần Thương Mại Và Công Nghệ Minh Phát', 'Công Ty TNHH Bao Bì Mực In Việt Nam (VINAPACKINK CO., LTD)', 'Công Ty TNHH SX Bao Bì Kiên Thủy', 'Công Ty Cổ Phần Việt Tiến Nam Định', 'Công Ty TNHH Sản Xuất Minh Thảo', 'Công Ty TNHH Sản Xuất In Ấn Bao Bì Gia Ân', 'Công Ty TNHH Sản Xuất Thương Mại Dịch Vụ Tân Thuận Tiến', 'Công Ty TNHH Đầu Tư Thương Mại Và Sản Xuất Bao Bì Tuấn Ngọc', 'Công Ty Cổ Phần Hưng Cát', 'Công Ty TNHH Bao Bì Nhựa Liên Thành', 'Công Ty TNHH Sơn Trương', 'Công Ty TNHH SX TM DV Xuất Nhập Khẩu Bao Bì Hoàng Đăng', 'Công Ty TNHH Sản Xuất - Thương Mại Bao Bì Hòa Phát']\n",
      "['baobinhuadinhphong@gmail.com', 'anhtrinh09dn@gmail.com', 'khaidung79@gmail.com', 'baobihoangthinhphat86@gmail.com', 'duloc08@gmail.com', 'hieploc.company@yahoo.com, sales@hieploc.com', 'haianh358@gmail.com', 'kinhdoanhnhatthai@gmail.com', 'truonggiangig@gmail.com', 'minhphatjsc.vn@gmail.com', 'luan.le@vinapackink.com.vn', 'bbkienthuy@gmail.com', 'viettiennd@gmail.com', 'minhloan1958@gmail.com', 'baobigiaan@gmail.com', 'baobi@tanthuantienpaper.com', 'info@tuanngoc.vn', 'vthungcat@gmail.com', 'dntnlienthanh@yahoo.com', 'sontruongstc@gmail.com', 'hoangdangpackaging@yahoo.com', 'hoaphatbaobi@gmail.com']\n"
     ]
    }
   ],
   "source": [
    "print(email)\n",
    "print(password)\n",
    "print(Sender)\n",
    "print(Phone_number)\n",
    "print(Category)\n",
    "print(Company_name)\n",
    "print(receiver)"
   ]
  },
  {
   "cell_type": "code",
   "execution_count": null,
   "metadata": {},
   "outputs": [],
   "source": [
    "session = smtplib.SMTP(\"smtp.gmail.com\", 587)\n",
    "session.starttls()\n",
    "session.login(email, password)"
   ]
  },
  {
   "cell_type": "code",
   "execution_count": null,
   "metadata": {},
   "outputs": [],
   "source": [
    "for i in range(len(Company_name)):\n",
    "    Sender = \"Bùi Tùng Hưng\"\n",
    "    Phone_number = \"0852366778\"\n",
    "    Category = \"sản phẩm tái chế từ nhựa, nilon\"\n",
    "    # Create the email message\n",
    "    content = f'''<span style=\"color: #000000;\">Kính gửi:</span> <span style=\"color: #FF0000;\">{Company_name[i]}</span><br><br>\n",
    "    <span style=\"color: #000000;\">Em tên là</span> <span style=\"color: #FF0000;\">{Sender}</span> <span style=\"color: #000000;\">– Đại diện phụ trách Đối ngoại của Chương trình “Đổi sách lấy cây” năm 2024 do Nhóm từ thiện Fly To Sky, trực thuộc Trung tâm Tình nguyện Quốc gia (Trung ương Đoàn TNCS Hồ Chí Minh) tổ chức</span>.<br><br>\n",
    "    <span style=\"color: #000000;\">Lời đầu tiên, thay mặt Nhóm từ thiện Fly To Sky, Ban Điều hành, Ban Tổ chức Chương trình xin được gửi đến Quý vị lời chào thân ái và trân trọng nhất. Kính chúc Quý vị được dồi dào sức khỏe, hạnh phúc, thành công và phát triển bền vững</span>.<br><br>\n",
    "    <span style=\"color: #000000;\">Nhóm từ thiện Fly To Sky xin trân trọng gửi tới Quý đơn vị lời mời tài chợ <b>Chương trình “Đổi sách lấy cây” năm 2024</b> - Một chương trình thường niên do Nhóm từ thiện Fly To Sky (Thành viên các Mạng lưới Tình nguyện Quốc gia, trực thuộc Trung tâm Tình nguyện Quốc gia – T.Ư Đoàn TNCS Hồ Chí Minh) khởi xướng và phát triển kể từ năm 2019. Năm 2024 là năm thứ 06 Nhóm tổ chức Chương trình.<br><br></span>\n",
    "    <span style=\"color: #000000;\">Thông qua chương trình, FTS mong muốn góp phần hỗ trợ sách cho giáo dục vùng cao, tạo động lực tiếp bước các học sinh nghèo có điều kiện tham gia học tập, gia tăng tỷ lệ học sinh đến trường, duy trì sĩ số ở các điểm trường khó khăn, đặc biệt khó khăn; cải thiện, nâng cao chất lượng học tập. Bên cạnh đó góp phần lan tỏa các thông điệp bảo vệ môi trường, biết yêu thiên nhiên, chăm sóc và bảo vệ cây xanh, bảo vệ rừng, tạo thói quen sử dụng ít nhựa, tiêu dùng xanh, lối sống bảo vệ môi trường, chuyển đổi sử dụng các sản phẩm thân thiện với môi trường, thuần chay, có nguồn gốc từ thực vật, hữu cơ, sản xuất và tiêu dùng bền vững, đẩy mạnh tái chế và giảm thiểu rác thải. Mỗi năm chương trình đã hỗ trợ hàng trăm trẻ em vùng cao có sách giáo khoa để học vào đầu năm học mới, thành lập, đồng hành cùng hàng chục thư viện trường học, thư viện cộng đồng, cùng với đó thu hút hàng ngàn người tham gia quy đổi và tham gia tình nguyện.<br><br></span>\n",
    "    <span style=\"color: #000000;\">Năm 2024, Chương trình dự kiến tổ chức từ ngày 11/5/2024 đến ngày 28/7/2024 (Tổng cộng khoảng 35 ngày, kéo dài 12 tuần), vào các ngày thứ 4, 7 và Chủ nhật (Các tỉnh miền núi sẽ thứ 7 và Chủ nhật) và dự kiến tổ chức tại 40 điểm đổi tại 8-10 tỉnh, thành phố, trong đó trọng tâm tại Gia Lai, TP. Hồ Chí Minh, ngoài ra còn có Thủ đô Hà Nội, Bình Dương,…<br><br></span>\n",
    "    <span style=\"color: #000000;\">Xin trân trọng kính mời</span> <font color=\"#FF0000;\">{Company_name[i]}</font> <span style=\"color: #000000;\">tài trợ sản phẩm các sản phẩm tái chế từ nhựa, nilon<br><br>\n",
    "    <span style=\"color: #000000;\">Phía BTC cũng rất mong có cơ hội được trao đổi, thống nhất về phương án, quyền lợi với phía mình.<br><br></span>\n",
    "    <span style=\"color: #000000;\">Thông tin chi tiết và các gói tài trợ:</span> <a href=\"https://heyzine.com/flip-book/7797f3c85a.html\">https://heyzine.com/flip-book/7797f3c85a.html</a><br><br>\n",
    "    <span style=\"color: #000000;\">Sự đồng hành của Quý đơn vị chính là động lực hỗ trợ Nhóm từ thiện Fly To Sky tổ chức Chương trình ý nghĩa, đạt hiệu quả, đóng góp tích cực cho cộng đồng. Để làm được điều đó, chúng tôi rất mong có cơ hội hợp tác, nhận được sự quan tâm, đồng hành, ủng hộ của Quý vị.<br><br>\n",
    "    Vì quy mô chương trình sẽ tổ chức ở nhiều địa bàn nên công tác chuẩn bị cần được hoàn tất trước kỳ nghỉ lễ, rất mong sớm nhận được sự phản hồi của Quý vị <b>trước ngày 03/05/2024</b> ạ.<br><br>\n",
    "\n",
    "    Trân trọng cảm ơn!<br><br>\n",
    "    ---------<br></span>\n",
    "    <span style=\"color: #FF0000;\">{Sender}</span><br>\n",
    "    <span style=\"color: #000000;\">Đại diện phụ trách Đối ngoại của Chương trình “Đổi sách lấy cây” năm 2024 do Nhóm từ thiện Fly To Sky, trực thuộc Trung tâm Tình nguyện Quốc gia (Trung ương Đoàn TNCS Hồ Chí Minh) tổ chức</span><br>\n",
    "    <span style=\"color: #000000;\">Số điện thoại:</span> <span style=\"color: #FF0000;\">{Phone_number}</span><br>\n",
    "    <span style=\"color: #000000;\">Email công:</span> <span style=\"color: #FF0000;\">donghanh@flytoskycharity.vn</span>\n",
    "    '''\n",
    "\n",
    "\n",
    "\n",
    "    msg = MIMEMultipart('alternative')\n",
    "    msg['From'] = email\n",
    "    msg['To'] = receiver[i]\n",
    "    msg['Subject'] = \"FLYTOSKY MỜI TÀI TRỢ CHƯƠNG TRÌNH ĐỔI SÁCH LẤY CÂY NĂM 2024\"\n",
    "\n",
    "    # Attach HTML content\n",
    "    msg.attach(MIMEText(f\"<h1>{msg['Subject']}</h1>\", 'html'))\n",
    "    msg.attach(MIMEText(content, 'html'))\n",
    "    \n",
    "    # Connect to SMTP server\n",
    "    session = smtplib.SMTP('smtp.gmail.com', 587)\n",
    "    session.starttls()\n",
    "    session.login(email, password)\n",
    "\n",
    "    # Send email\n",
    "    session.sendmail(email, receiver[i], msg.as_string())\n",
    "    print(f\"Mail no {i} Sent\")\n",
    "\n",
    "    # Quit SMTP session\n",
    "    session.quit()"
   ]
  }
 ],
 "metadata": {
  "kernelspec": {
   "display_name": "Python 3",
   "language": "python",
   "name": "python3"
  },
  "language_info": {
   "codemirror_mode": {
    "name": "ipython",
    "version": 3
   },
   "file_extension": ".py",
   "mimetype": "text/x-python",
   "name": "python",
   "nbconvert_exporter": "python",
   "pygments_lexer": "ipython3",
   "version": "3.10.11"
  }
 },
 "nbformat": 4,
 "nbformat_minor": 2
}
